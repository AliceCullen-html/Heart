{
 "cells": [
  {
   "cell_type": "code",
   "execution_count": 2,
   "id": "7b4ea566-8314-4ca0-b436-14f8e8cc094a",
   "metadata": {},
   "outputs": [],
   "source": [
    "import turtle"
   ]
  },
  {
   "cell_type": "code",
   "execution_count": 3,
   "id": "4a99551b-ef88-4cb7-9114-2005daa03021",
   "metadata": {},
   "outputs": [],
   "source": [
    "pen = turtle.Turtle()\n",
    "\n",
    "def curve():\n",
    "    for j in range(200):\n",
    "        pen.right(1)\n",
    "        pen.forward(1)\n",
    "def heart():\n",
    "    pen.fillcolor('red')\n",
    "    pen.begin_fill()\n",
    "    pen.left(140)\n",
    "    pen.forward(113)\n",
    "    curve()\n",
    "    pen.left(120)\n",
    "    curve()\n",
    "    pen.forward(112)\n",
    "    pen.end_fill()\n",
    "    \n",
    "def txt():\n",
    "    pen.up()\n",
    "    pen.setpos(-68, 95)\n",
    "    pen.down()\n",
    "    pen.color('lightgreen')\n",
    "    pen.write(\"I LOVE YOU\", font=(\"Verdana\", 12, \"bold\"))\n",
    "heart()\n",
    "txt()\n",
    "pen.ht()               \n",
    "               "
   ]
  },
  {
   "cell_type": "code",
   "execution_count": 8,
   "id": "8454bf67-118a-4c20-9963-cc2152c35c62",
   "metadata": {},
   "outputs": [
    {
     "ename": "SyntaxError",
     "evalue": "invalid syntax (2497501008.py, line 6)",
     "output_type": "error",
     "traceback": [
      "\u001b[1;36m  Input \u001b[1;32mIn [8]\u001b[1;36m\u001b[0m\n\u001b[1;33m    pen.writer(\"I LOVE YOY, font=(\"Verdana\", 12, \"bold\"))\u001b[0m\n\u001b[1;37m                                   ^\u001b[0m\n\u001b[1;31mSyntaxError\u001b[0m\u001b[1;31m:\u001b[0m invalid syntax\n"
     ]
    }
   ],
   "source": [
    "\n",
    "               "
   ]
  },
  {
   "cell_type": "code",
   "execution_count": null,
   "id": "59373bc6-a3f1-42ac-b670-5aa34dc61c45",
   "metadata": {},
   "outputs": [],
   "source": []
  }
 ],
 "metadata": {
  "kernelspec": {
   "display_name": "Python 3 (ipykernel)",
   "language": "python",
   "name": "python3"
  },
  "language_info": {
   "codemirror_mode": {
    "name": "ipython",
    "version": 3
   },
   "file_extension": ".py",
   "mimetype": "text/x-python",
   "name": "python",
   "nbconvert_exporter": "python",
   "pygments_lexer": "ipython3",
   "version": "3.9.7"
  }
 },
 "nbformat": 4,
 "nbformat_minor": 5
}
